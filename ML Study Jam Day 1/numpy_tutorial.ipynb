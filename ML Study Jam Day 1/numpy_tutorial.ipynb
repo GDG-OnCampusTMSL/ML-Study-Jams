{
  "nbformat": 4,
  "nbformat_minor": 0,
  "metadata": {
    "colab": {
      "provenance": []
    },
    "kernelspec": {
      "name": "python3",
      "display_name": "Python 3"
    },
    "language_info": {
      "name": "python"
    }
  },
  "cells": [
    {
      "cell_type": "code",
      "execution_count": 4,
      "metadata": {
        "id": "rB5T7bHG8JoU"
      },
      "outputs": [],
      "source": [
        "import numpy as np\n",
        "\n",
        "L = list(range(10))\n",
        "\n",
        "L = np.array(L)"
      ]
    },
    {
      "cell_type": "code",
      "source": [
        "np.zeros(10, dtype='int')"
      ],
      "metadata": {
        "colab": {
          "base_uri": "https://localhost:8080/"
        },
        "id": "O1jNY9NL8ymp",
        "outputId": "dc4a2031-bc16-4420-cec2-196c44e3a7e9"
      },
      "execution_count": 5,
      "outputs": [
        {
          "output_type": "execute_result",
          "data": {
            "text/plain": [
              "array([0, 0, 0, 0, 0, 0, 0, 0, 0, 0])"
            ]
          },
          "metadata": {},
          "execution_count": 5
        }
      ]
    },
    {
      "cell_type": "code",
      "source": [
        "np.ones((3,5), dtype=float)"
      ],
      "metadata": {
        "colab": {
          "base_uri": "https://localhost:8080/"
        },
        "id": "7Hg4lbOD8zW6",
        "outputId": "9edba532-f114-43b6-bf2d-cb9b46f1c9a5"
      },
      "execution_count": 6,
      "outputs": [
        {
          "output_type": "execute_result",
          "data": {
            "text/plain": [
              "array([[1., 1., 1., 1., 1.],\n",
              "       [1., 1., 1., 1., 1.],\n",
              "       [1., 1., 1., 1., 1.]])"
            ]
          },
          "metadata": {},
          "execution_count": 6
        }
      ]
    },
    {
      "cell_type": "code",
      "source": [
        "np.full((3,5),1.23)"
      ],
      "metadata": {
        "colab": {
          "base_uri": "https://localhost:8080/"
        },
        "id": "wGiw2pZ586H_",
        "outputId": "2019df02-b9b9-4a83-9bf8-430baf388b7d"
      },
      "execution_count": 7,
      "outputs": [
        {
          "output_type": "execute_result",
          "data": {
            "text/plain": [
              "array([[1.23, 1.23, 1.23, 1.23, 1.23],\n",
              "       [1.23, 1.23, 1.23, 1.23, 1.23],\n",
              "       [1.23, 1.23, 1.23, 1.23, 1.23]])"
            ]
          },
          "metadata": {},
          "execution_count": 7
        }
      ]
    },
    {
      "cell_type": "code",
      "source": [
        "np.arange(0, 20, 2)"
      ],
      "metadata": {
        "colab": {
          "base_uri": "https://localhost:8080/"
        },
        "id": "haLpKjnu89BY",
        "outputId": "2564d370-8f42-4837-b3d4-93e9be3f4b99"
      },
      "execution_count": 8,
      "outputs": [
        {
          "output_type": "execute_result",
          "data": {
            "text/plain": [
              "array([ 0,  2,  4,  6,  8, 10, 12, 14, 16, 18])"
            ]
          },
          "metadata": {},
          "execution_count": 8
        }
      ]
    },
    {
      "cell_type": "code",
      "source": [
        "np.linspace(0, 1, 5)"
      ],
      "metadata": {
        "colab": {
          "base_uri": "https://localhost:8080/"
        },
        "id": "QfPqM_Gn9ChO",
        "outputId": "54b2bc56-a547-40b4-9848-c96cd7e28945"
      },
      "execution_count": 9,
      "outputs": [
        {
          "output_type": "execute_result",
          "data": {
            "text/plain": [
              "array([0.  , 0.25, 0.5 , 0.75, 1.  ])"
            ]
          },
          "metadata": {},
          "execution_count": 9
        }
      ]
    },
    {
      "cell_type": "code",
      "source": [
        "np.random.normal(0, 1, (3,3))"
      ],
      "metadata": {
        "colab": {
          "base_uri": "https://localhost:8080/"
        },
        "id": "ugKWumun9GhQ",
        "outputId": "314692e0-1fbb-4669-cf00-ffdf6b903d7d"
      },
      "execution_count": 10,
      "outputs": [
        {
          "output_type": "execute_result",
          "data": {
            "text/plain": [
              "array([[ 1.25441407,  1.41910204, -0.74385608],\n",
              "       [-2.5174371 , -1.50709602,  1.14907613],\n",
              "       [-1.19357825,  1.14104245,  1.50944508]])"
            ]
          },
          "metadata": {},
          "execution_count": 10
        }
      ]
    },
    {
      "cell_type": "code",
      "source": [
        "np.eye(3)"
      ],
      "metadata": {
        "colab": {
          "base_uri": "https://localhost:8080/"
        },
        "id": "VCWU5ShZ9IpZ",
        "outputId": "468dfff9-ad22-4dea-e9d6-d140a1d29acf"
      },
      "execution_count": 11,
      "outputs": [
        {
          "output_type": "execute_result",
          "data": {
            "text/plain": [
              "array([[1., 0., 0.],\n",
              "       [0., 1., 0.],\n",
              "       [0., 0., 1.]])"
            ]
          },
          "metadata": {},
          "execution_count": 11
        }
      ]
    },
    {
      "cell_type": "code",
      "source": [
        "np.random.seed(0)\n",
        "\n",
        "\n",
        "x1 = np.random.randint(10, size=6)\n",
        "x2 = np.random.randint(10, size=(3,4))\n",
        "x3 = np.random.randint(10, size=(3,4,5))\n",
        "\n",
        "\n",
        "print(\"x3 ndim:\", x3.ndim)\n",
        "print(\"x3 shape:\", x3.shape)\n",
        "print(\"x3 size: \", x3.size)"
      ],
      "metadata": {
        "colab": {
          "base_uri": "https://localhost:8080/"
        },
        "id": "hP2NRnSY9OYU",
        "outputId": "44bff04a-a3f5-4bb2-e3d7-31bd78edbde1"
      },
      "execution_count": 12,
      "outputs": [
        {
          "output_type": "stream",
          "name": "stdout",
          "text": [
            "x3 ndim: 3\n",
            "x3 shape: (3, 4, 5)\n",
            "x3 size:  60\n"
          ]
        }
      ]
    },
    {
      "cell_type": "code",
      "source": [
        "x1 = np.array([4, 3, 4, 4, 8, 4])\n",
        "x1\n",
        "print(x1[0])\n",
        "\n",
        "#assess fifth value\n",
        "\n",
        "print(x1[4])\n",
        "\n",
        "\n",
        "#get the last value\n",
        "print(x1[-1])\n",
        "\n",
        "\n",
        "#get the second last value\n",
        "print(x1[-2])\n",
        "\n",
        "\n",
        "#in a multidimensional array, we need to specify row and column index\n",
        "print(x2)\n",
        "\n",
        "\n",
        "#1st row and 2nd column value\n",
        "print(x2[2,3])\n",
        "\n",
        "#3rd row and last value from the 3rd column\n",
        "print(x2[2,-1])\n",
        "\n",
        "\n",
        "#replace value at 0,0 index\n",
        "x2[0,0] = 12\n",
        "print(x2)"
      ],
      "metadata": {
        "colab": {
          "base_uri": "https://localhost:8080/"
        },
        "id": "Uo_VnL5j9zDu",
        "outputId": "50606e4d-f360-416f-8d62-4427a16a73e0"
      },
      "execution_count": 14,
      "outputs": [
        {
          "output_type": "stream",
          "name": "stdout",
          "text": [
            "4\n",
            "8\n",
            "4\n",
            "8\n",
            "[[12  5  2  4]\n",
            " [ 7  6  8  8]\n",
            " [ 1  6  7  7]]\n",
            "7\n",
            "7\n",
            "[[12  5  2  4]\n",
            " [ 7  6  8  8]\n",
            " [ 1  6  7  7]]\n"
          ]
        }
      ]
    },
    {
      "cell_type": "code",
      "source": [
        "x = np.arange(10)\n",
        "print(x)\n",
        "\n",
        "\n",
        "#from start to 4th position\n",
        "print(x[:5])\n",
        "\n",
        "\n",
        "\n",
        "#from 4th position to end\n",
        "print(x[4:])\n",
        "\n",
        "\n",
        "\n",
        "#from 4th to 6th position\n",
        "print(x[4:7])\n",
        "\n",
        "\n",
        "\n",
        "#return elements at even place\n",
        "print(x[ : : 2])\n",
        "\n",
        "\n",
        "\n",
        "#return elements from first position step by two\n",
        "print(x[1::2])\n",
        "\n",
        "\n",
        "\n",
        "#reverse the array\n",
        "print(x[::-1])\n"
      ],
      "metadata": {
        "colab": {
          "base_uri": "https://localhost:8080/"
        },
        "id": "RV4bE646-gGG",
        "outputId": "ed8229ec-21ee-4ccf-bd39-cef91cfda10c"
      },
      "execution_count": 15,
      "outputs": [
        {
          "output_type": "stream",
          "name": "stdout",
          "text": [
            "[0 1 2 3 4 5 6 7 8 9]\n",
            "[0 1 2 3 4]\n",
            "[4 5 6 7 8 9]\n",
            "[4 5 6]\n",
            "[0 2 4 6 8]\n",
            "[1 3 5 7 9]\n",
            "[9 8 7 6 5 4 3 2 1 0]\n"
          ]
        }
      ]
    },
    {
      "cell_type": "code",
      "source": [
        "grid = np.arange(16).reshape((4,4))\n",
        "grid"
      ],
      "metadata": {
        "colab": {
          "base_uri": "https://localhost:8080/"
        },
        "id": "vgQRhDGT-4BS",
        "outputId": "fe1510fa-ed55-4f72-dd56-3bedc3ed6d19"
      },
      "execution_count": 16,
      "outputs": [
        {
          "output_type": "execute_result",
          "data": {
            "text/plain": [
              "array([[ 0,  1,  2,  3],\n",
              "       [ 4,  5,  6,  7],\n",
              "       [ 8,  9, 10, 11],\n",
              "       [12, 13, 14, 15]])"
            ]
          },
          "metadata": {},
          "execution_count": 16
        }
      ]
    }
  ]
}