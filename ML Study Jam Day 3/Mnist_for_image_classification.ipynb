{
  "nbformat": 4,
  "nbformat_minor": 0,
  "metadata": {
    "colab": {
      "provenance": [],
      "toc_visible": true
    },
    "kernelspec": {
      "name": "python3",
      "display_name": "Python 3"
    },
    "language_info": {
      "name": "python"
    }
  },
  "cells": [
    {
      "cell_type": "code",
      "execution_count": 2,
      "metadata": {
        "id": "npxgy4Fc7Au8"
      },
      "outputs": [],
      "source": [
        "import tensorflow as tf\n",
        "import numpy as np\n",
        "import matplotlib.pyplot as plt\n",
        "import pandas as pd\n"
      ]
    },
    {
      "cell_type": "code",
      "source": [
        "# Loading in the mnist dataset from Keras\n",
        "mnist = tf.keras.datasets.mnist\n",
        "\n",
        "(x_train,y_train),(x_test,y_test) = mnist.load_data()\n",
        "\n",
        "# Normalizing the pixel values from 0-255 to around 0-1\n",
        "\n",
        "x_train, x_test = x_train / 255.0, x_test / 255.0\n",
        "print(\"X_train shape: \", x_train.shape)"
      ],
      "metadata": {
        "colab": {
          "base_uri": "https://localhost:8080/"
        },
        "id": "tMnQN2Bp8mjC",
        "outputId": "2ce8e435-45a8-408b-c638-8b28ba97e22a"
      },
      "execution_count": 3,
      "outputs": [
        {
          "output_type": "stream",
          "name": "stdout",
          "text": [
            "Downloading data from https://storage.googleapis.com/tensorflow/tf-keras-datasets/mnist.npz\n",
            "11490434/11490434 [==============================] - 0s 0us/step\n",
            "X_train shape:  (60000, 28, 28)\n"
          ]
        }
      ]
    },
    {
      "cell_type": "code",
      "source": [
        "# Building the classifier model\n",
        "\n",
        "model = tf.keras.models.Sequential([\n",
        "    tf.keras.layers.Flatten(input_shape=(28,28)),\n",
        "    tf.keras.layers.Dense(128, activation = 'relu'),\n",
        "    tf.keras.layers.Dropout(0.2), # Dropping 20% of the in-between neurons randomly so that the model training is generalised\n",
        "    tf.keras.layers.Dense(10, activation='softmax')\n",
        "])"
      ],
      "metadata": {
        "id": "6gCfp8s1ATGV"
      },
      "execution_count": 4,
      "outputs": []
    },
    {
      "cell_type": "code",
      "source": [
        "# Compiling the model\n",
        "\n",
        "model.compile(optimizer = 'adam',\n",
        "              loss = 'sparse_categorical_crossentropy',\n",
        "              metrics=['accuracy'])"
      ],
      "metadata": {
        "id": "Hm7hQCdBAVl5"
      },
      "execution_count": 5,
      "outputs": []
    },
    {
      "cell_type": "code",
      "source": [
        "# Fitting the model\n",
        "\n",
        "r = model.fit(x_train,y_train, validation_data = (x_test,y_test), epochs = 10)"
      ],
      "metadata": {
        "colab": {
          "base_uri": "https://localhost:8080/"
        },
        "id": "Ty7YtrNdBsTW",
        "outputId": "1e380742-c8ba-4e5d-d63a-53da7d666d6a"
      },
      "execution_count": 6,
      "outputs": [
        {
          "output_type": "stream",
          "name": "stdout",
          "text": [
            "Epoch 1/10\n",
            "1875/1875 [==============================] - 11s 6ms/step - loss: 0.3008 - accuracy: 0.9134 - val_loss: 0.1325 - val_accuracy: 0.9623\n",
            "Epoch 2/10\n",
            "1875/1875 [==============================] - 12s 6ms/step - loss: 0.1453 - accuracy: 0.9571 - val_loss: 0.0976 - val_accuracy: 0.9712\n",
            "Epoch 3/10\n",
            "1875/1875 [==============================] - 6s 3ms/step - loss: 0.1099 - accuracy: 0.9665 - val_loss: 0.0901 - val_accuracy: 0.9724\n",
            "Epoch 4/10\n",
            "1875/1875 [==============================] - 6s 3ms/step - loss: 0.0875 - accuracy: 0.9728 - val_loss: 0.0736 - val_accuracy: 0.9768\n",
            "Epoch 5/10\n",
            "1875/1875 [==============================] - 6s 3ms/step - loss: 0.0748 - accuracy: 0.9762 - val_loss: 0.0701 - val_accuracy: 0.9778\n",
            "Epoch 6/10\n",
            "1875/1875 [==============================] - 6s 3ms/step - loss: 0.0658 - accuracy: 0.9792 - val_loss: 0.0729 - val_accuracy: 0.9788\n",
            "Epoch 7/10\n",
            "1875/1875 [==============================] - 6s 3ms/step - loss: 0.0577 - accuracy: 0.9810 - val_loss: 0.0712 - val_accuracy: 0.9782\n",
            "Epoch 8/10\n",
            "1875/1875 [==============================] - 6s 3ms/step - loss: 0.0529 - accuracy: 0.9831 - val_loss: 0.0646 - val_accuracy: 0.9801\n",
            "Epoch 9/10\n",
            "1875/1875 [==============================] - 6s 3ms/step - loss: 0.0483 - accuracy: 0.9836 - val_loss: 0.0725 - val_accuracy: 0.9796\n",
            "Epoch 10/10\n",
            "1875/1875 [==============================] - 6s 3ms/step - loss: 0.0450 - accuracy: 0.9848 - val_loss: 0.0681 - val_accuracy: 0.9803\n"
          ]
        }
      ]
    },
    {
      "cell_type": "markdown",
      "source": [
        "# **Now lets us map the loss per iteration**"
      ],
      "metadata": {
        "id": "1X0xS7nWCMic"
      }
    },
    {
      "cell_type": "code",
      "source": [
        "plt.plot(r.history['loss'],label='loss',c='#ff0000')\n",
        "plt.plot(r.history['val_loss'], label='val_loss',c='#ff6600')\n",
        "plt.legend()"
      ],
      "metadata": {
        "colab": {
          "base_uri": "https://localhost:8080/",
          "height": 282
        },
        "id": "qKQhrH7PCU5z",
        "outputId": "fdc70614-ffb0-495a-f602-ade76ca57843"
      },
      "execution_count": 7,
      "outputs": [
        {
          "output_type": "execute_result",
          "data": {
            "text/plain": [
              "<matplotlib.legend.Legend at 0x7fba74584eb0>"
            ]
          },
          "metadata": {},
          "execution_count": 7
        },
        {
          "output_type": "display_data",
          "data": {
            "text/plain": [
              "<Figure size 432x288 with 1 Axes>"
            ],
            "image/png": "[encoded data removed]"
          },
          "metadata": {
            "needs_background": "light"
          }
        }
      ]
    },
    {
      "cell_type": "markdown",
      "source": [
        "# **Plotting accuracy per iteration**"
      ],
      "metadata": {
        "id": "I55esdlaDVxl"
      }
    },
    {
      "cell_type": "code",
      "source": [
        "plt.plot(r.history['accuracy'],label='accuracy',c='#80ff80')\n",
        "plt.plot(r.history['val_accuracy'], label='val_accuracy',c='#008000')\n",
        "plt.legend()"
      ],
      "metadata": {
        "colab": {
          "base_uri": "https://localhost:8080/",
          "height": 282
        },
        "id": "sOP-zGGmDZwU",
        "outputId": "d283ffa4-7461-4d83-a168-9668da6cea43"
      },
      "execution_count": 8,
      "outputs": [
        {
          "output_type": "execute_result",
          "data": {
            "text/plain": [
              "<matplotlib.legend.Legend at 0x7fbadc94e9a0>"
            ]
          },
          "metadata": {},
          "execution_count": 8
        },
        {
          "output_type": "display_data",
          "data": {
            "text/plain": [
              "<Figure size 432x288 with 1 Axes>"
            ],
            "image/png": "[encoded data removed]"
          },
          "metadata": {
            "needs_background": "light"
          }
        }
      ]
    },
    {
      "cell_type": "code",
      "source": [
        "# Evaluating our model\n",
        "\n",
        "print(model.evaluate(x_test, y_test))"
      ],
      "metadata": {
        "colab": {
          "base_uri": "https://localhost:8080/"
        },
        "id": "ENhgsDT2DpYz",
        "outputId": "7a90381a-3d79-4723-ee20-79216388a499"
      },
      "execution_count": 9,
      "outputs": [
        {
          "output_type": "stream",
          "name": "stdout",
          "text": [
            "313/313 [==============================] - 1s 2ms/step - loss: 0.0681 - accuracy: 0.9803\n",
            "[0.0680733397603035, 0.9803000092506409]\n"
          ]
        }
      ]
    },
    {
      "cell_type": "markdown",
      "source": [
        "## **Plotting a Confusion Matrix for the classification** "
      ],
      "metadata": {
        "id": "YWEMqasCFuBt"
      }
    },
    {
      "cell_type": "code",
      "source": [
        "from sklearn.metrics import confusion_matrix\n",
        "import itertools\n",
        "\n",
        "def plot_confusion_matrix(cm, classes, normalize='False', title='Confusion Matrix', cmap='spring'):\n",
        "\n",
        "  # This function returns a confusion matrix. Normalization can be applied by setting normalize=True\n",
        "\n",
        "  if normalize:\n",
        "    cm = cm.astype('float') / cm.sum(axis=1)[:,np.newaxis] #astype() is used to convert a pandas object to a particular datatype\n",
        "    print('Normalized Confusion Matrix')\n",
        "  else:\n",
        "    print('Confusion Matrix, without normalization')\n",
        "  \n",
        "  print(cm)\n",
        "\n",
        "  #used when display resolution and image resolution are not same(Displays the exact image)\n",
        "  plt.imshow(cm, interpolation='nearest', cmap=cmap) \n",
        "\n",
        "  plt.title(title)\n",
        "  plt.colorbar()\n",
        "  tick_marks = np.arange(len(classes)) # No. of tick marks generated as per the no of classes\n",
        "  plt.xticks(tick_marks, classes, rotation=45)\n",
        "  plt.yticks(tick_marks, classes)\n",
        "\n",
        "  fmt = '.2f' if normalize else 'd'\n",
        "  thresh = cm.max()/2.0\n",
        "  for i,j in itertools.product(range(cm.shape[0]), range(cm.shape[1])):\n",
        "    plt.text(j, i, format( cm[i, j], fmt), horizontalalignment = 'center', color = 'red' if cm[i,j] > thresh else 'black')\n",
        "\n",
        "  plt.tight_layout()\n",
        "  plt.ylabel('True Label')\n",
        "  plt.xlabel('Predicted Label')\n",
        "  plt.show()\n",
        "\n",
        "p_test = model.predict(x_test).argmax(axis=1)\n",
        "cm = confusion_matrix(y_test, p_test)\n",
        "plot_confusion_matrix(cm, list(range(10)), False) # Sending the confusion matrix and 10 class indexes to the plot function"
      ],
      "metadata": {
        "colab": {
          "base_uri": "https://localhost:8080/",
          "height": 519
        },
        "id": "H4UxIh0ZF0Ob",
        "outputId": "9954fbd2-83f1-4af2-8aca-da19bfa4ca20"
      },
      "execution_count": 10,
      "outputs": [
        {
          "output_type": "stream",
          "name": "stdout",
          "text": [
            "313/313 [==============================] - 1s 2ms/step\n",
            "Confusion Matrix, without normalization\n",
            "[[ 965    1    0    1    2    1    4    2    3    1]\n",
            " [   0 1129    2    1    0    0    1    0    2    0]\n",
            " [   3    1 1009    4    2    0    1    4    8    0]\n",
            " [   0    0    4  993    0    5    0    4    2    2]\n",
            " [   0    0    2    1  965    0    4    1    2    7]\n",
            " [   2    0    0    6    1  874    1    1    5    2]\n",
            " [   1    3    1    1    5    6  935    0    6    0]\n",
            " [   0    6    9    2    1    0    0 1001    2    7]\n",
            " [   1    1    1    6    2    4    0    5  950    4]\n",
            " [   1    2    0    5    7    3    1    3    5  982]]\n"
          ]
        },
        {
          "output_type": "display_data",
          "data": {
            "text/plain": [
              "<Figure size 432x288 with 2 Axes>"
            ],
            "image/png": "[encoded data removed]"
          },
          "metadata": {
            "needs_background": "light"
          }
        }
      ]
    },
    {
      "cell_type": "markdown",
      "source": [
        "## **Showing misclassified examples**"
      ],
      "metadata": {
        "id": "93pzTo93LHfe"
      }
    },
    {
      "cell_type": "code",
      "source": [
        "misclassified_idx = np.where(p_test != y_test)[0]\n",
        "i = np.random.choice(misclassified_idx)\n",
        "plt.imshow(x_test[i], cmap='gray')\n",
        "plt.title(f'True Label:{y_test[i]}   Predicted Label:{p_test[i]}')"
      ],
      "metadata": {
        "colab": {
          "base_uri": "https://localhost:8080/",
          "height": 298
        },
        "id": "QcHUrp3CKQvD",
        "outputId": "e0d7a8fd-5267-4ef8-fae6-19732aa8bf23"
      },
      "execution_count": 14,
      "outputs": [
        {
          "output_type": "execute_result",
          "data": {
            "text/plain": [
              "Text(0.5, 1.0, 'True Label:4   Predicted Label:9')"
            ]
          },
          "metadata": {},
          "execution_count": 14
        },
        {
          "output_type": "display_data",
          "data": {
            "text/plain": [
              "<Figure size 432x288 with 1 Axes>"
            ],
            "image/png": "[encoded data removed]"
          },
          "metadata": {
            "needs_background": "light"
          }
        }
      ]
    },
    {
      "cell_type": "code",
      "source": [],
      "metadata": {
        "id": "GiY2HAH4Lu_J"
      },
      "execution_count": 11,
      "outputs": []
    }
  ]
}